{
  "nbformat": 4,
  "nbformat_minor": 0,
  "metadata": {
    "colab": {
      "provenance": []
    },
    "kernelspec": {
      "name": "python3",
      "display_name": "Python 3"
    },
    "language_info": {
      "name": "python"
    }
  },
  "cells": [
    {
      "cell_type": "markdown",
      "source": [
        "**METHOD - 1**"
      ],
      "metadata": {
        "id": "er-kBcBeXl50"
      }
    },
    {
      "cell_type": "code",
      "execution_count": 1,
      "metadata": {
        "colab": {
          "base_uri": "https://localhost:8080/"
        },
        "id": "vBM3b7i3P-S8",
        "outputId": "e632042c-5bf8-4b24-aa20-4099f88d0817"
      },
      "outputs": [
        {
          "output_type": "stream",
          "name": "stdout",
          "text": [
            "CUSTOMER 1\n",
            "\n",
            "Enter you atm pin: 1235\n",
            "Invalid ATM pin!\n",
            "Enter you atm pin: 1234\n",
            "ATM pin verified!\n",
            "\n",
            "Existing bank balance of Varnika is: 10000\n",
            "Enter amount to be withdrawn: 3500\n",
            "Updated bank balance of Varnika is: 6500\n",
            "\n",
            "CUSTOMER 2\n",
            "\n",
            "Enter you atm pin: 5466\n",
            "Invalid ATM pin!\n",
            "Enter you atm pin: 5467\n",
            "ATM pin verified!\n",
            "\n",
            "Existing bank balance of Milind is: 25000\n",
            "Enter amount to be deposited: 4200\n",
            "Updated bank balance of Milind is: 29200\n"
          ]
        }
      ],
      "source": [
        "#Parent class Bank\n",
        "class Bank:\n",
        "  def __init__(self, cust_name, bank_name, atm_pin, balance):\n",
        "    self.cust_name = cust_name\n",
        "    self.bank_name = bank_name\n",
        "    self.atm_pin = atm_pin\n",
        "    self.balance = balance\n",
        "\n",
        "#Child class withdraw_monwy inheriting from Bank\n",
        "class withdraw_money(Bank):\n",
        "\n",
        "  def check_pin(self):\n",
        "    account_pin = int(input(\"Enter you atm pin: \"))\n",
        "    if account_pin == self.atm_pin:\n",
        "      print(\"ATM pin verified!\\n\")\n",
        "    else:\n",
        "      print(\"Invalid ATM pin!\")\n",
        "      account_pin = int(input(\"Enter you atm pin: \"))\n",
        "      if account_pin == self.atm_pin:\n",
        "        print(\"ATM pin verified!\\n\")\n",
        "    print(\"Existing bank balance of\",self.cust_name,\"is:\",self.balance)\n",
        "    amount = int(input(\"Enter amount to be withdrawn: \"))\n",
        "    if amount <= self.balance:\n",
        "      updated_balance = self.balance - amount\n",
        "      print(\"Updated bank balance of\",self.cust_name,\"is:\",updated_balance)\n",
        "    else:\n",
        "      print(\"Insufficient balance!\")\n",
        "\n",
        "\n",
        "#child class deposit_money inherits from parent class Bank\n",
        "class deposit_money(Bank):\n",
        "\n",
        "  def enter_pin(self):\n",
        "    account_pin = int(input(\"Enter you atm pin: \"))\n",
        "    if account_pin == self.atm_pin:\n",
        "      print(\"ATM pin verified!\\n\")\n",
        "    else:\n",
        "      print(\"Invalid ATM pin!\")\n",
        "      account_pin = int(input(\"Enter you atm pin: \"))\n",
        "      if account_pin == self.atm_pin:\n",
        "        print(\"ATM pin verified!\\n\")\n",
        "    print(\"Existing bank balance of\",self.cust_name,\"is:\",self.balance)\n",
        "    deposit_amount = int(input(\"Enter amount to be deposited: \"))\n",
        "    updated_balance = self.balance + deposit_amount\n",
        "    print(\"Updated bank balance of\",self.cust_name,\"is:\",updated_balance)\n",
        "\n",
        "\n",
        "#object initialization and creation\n",
        "print(\"CUSTOMER 1\\n\")\n",
        "cust1 = withdraw_money(\"Varnika\", \"SBI\", 1234, 10000)\n",
        "cust1.check_pin()\n",
        "print(\"\\nCUSTOMER 2\\n\")\n",
        "cust2 = deposit_money(\"Milind\", \"ICICI\", 5467, 25000)\n",
        "cust2.enter_pin()"
      ]
    },
    {
      "cell_type": "markdown",
      "source": [
        "**METHOD - 2**"
      ],
      "metadata": {
        "id": "D5lCHAwtXiW5"
      }
    },
    {
      "cell_type": "code",
      "source": [
        "#Parent class Bank\n",
        "class Bank:\n",
        "  def __init__(self, cust_name, bank_name, atm_pin, balance):\n",
        "    self.cust_name = cust_name\n",
        "    self.bank_name = bank_name\n",
        "    self.atm_pin = atm_pin\n",
        "    self.balance = balance\n",
        "\n",
        "#Child class withdraw_monwy inheriting from Bank\n",
        "class withdraw_and_deposit(Bank):\n",
        "\n",
        "  def withdraw(self):\n",
        "    account_pin = int(input(\"Enter you atm pin: \"))\n",
        "    if account_pin == self.atm_pin:\n",
        "      print(\"ATM pin verified!\\n\")\n",
        "    else:\n",
        "      print(\"Invalid ATM pin!\")\n",
        "      account_pin = int(input(\"Enter you atm pin: \"))\n",
        "      if account_pin == self.atm_pin:\n",
        "        print(\"ATM pin verified!\\n\")\n",
        "    print(\"Bank balance:\",self.balance)\n",
        "    amount = int(input(\"Enter amount to be withdrawn: \"))\n",
        "    if amount<= self.balance:\n",
        "      self.balance = self.balance - amount\n",
        "      print(\"Updated bank balance:\",self.balance)\n",
        "    else:\n",
        "      print(\"Insufficient balance\")\n",
        "\n",
        "  def deposit(self):\n",
        "    account_pin = int(input(\"Enter you atm pin: \"))\n",
        "    if account_pin == self.atm_pin:\n",
        "      print(\"ATM pin verified!\\n\")\n",
        "    else:\n",
        "      print(\"Invalid ATM pin!\")\n",
        "      account_pin = int(input(\"Enter you atm pin: \"))\n",
        "      if account_pin == self.atm_pin:\n",
        "        print(\"ATM pin verified!\\n\")\n",
        "    print(\"Bank balance:\",self.balance)\n",
        "    deposit_amount = int(input(\"Enter amount to be deposited: \"))\n",
        "    self.balance = self.balance + deposit_amount\n",
        "    print(\"Updated bank balance:\", self.balance)\n",
        "\n",
        "cust1 = withdraw_and_deposit(\"Varnika\", \"HDFC Bank\", 7897, 45000)\n",
        "print(\"1.Withdraw money\\n2.Deposit Money\\n\")\n",
        "choice = int(input(\"Enter choice: \"))\n",
        "match(choice):\n",
        "  case 1:\n",
        "    cust1.withdraw()\n",
        "  case 2:\n",
        "    cust1.deposit()"
      ],
      "metadata": {
        "id": "aZofjN99QLCV",
        "colab": {
          "base_uri": "https://localhost:8080/"
        },
        "outputId": "8549e854-5c76-4a82-fe88-f7a8b2d098dd"
      },
      "execution_count": 7,
      "outputs": [
        {
          "output_type": "stream",
          "name": "stdout",
          "text": [
            "1.Withdraw money\n",
            "2.Deposit Money\n",
            "\n",
            "Enter choice: 1\n",
            "Enter you atm pin: 7897\n",
            "ATM pin verified!\n",
            "\n",
            "Bank balance: 45000\n",
            "Enter amount to be withdrawn: 2000\n",
            "Updated bank balance: 43000\n"
          ]
        }
      ]
    },
    {
      "cell_type": "code",
      "source": [],
      "metadata": {
        "id": "ceoZEoU3VrpQ"
      },
      "execution_count": null,
      "outputs": []
    }
  ]
}