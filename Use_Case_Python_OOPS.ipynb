{
  "nbformat": 4,
  "nbformat_minor": 0,
  "metadata": {
    "colab": {
      "provenance": []
    },
    "kernelspec": {
      "name": "python3",
      "display_name": "Python 3"
    },
    "language_info": {
      "name": "python"
    }
  },
  "cells": [
    {
      "cell_type": "code",
      "execution_count": 1,
      "metadata": {
        "colab": {
          "base_uri": "https://localhost:8080/"
        },
        "id": "vBM3b7i3P-S8",
        "outputId": "9da01fcd-4edd-44c0-e17c-4b44ccd1fdbe"
      },
      "outputs": [
        {
          "output_type": "stream",
          "name": "stdout",
          "text": [
            "CUSTOMER 1\n",
            "\n",
            "Enter you atm pin: 1234\n",
            "ATM pin verified!\n",
            "\n",
            "Existing bank balance of Varnika is: 10000\n",
            "Enter amount to be withdrawn: 400\n",
            "Updated bank balance of Varnika is: 9600\n",
            "\n",
            "CUSTOMER 2\n",
            "\n",
            "Enter you atm pin: 5467\n",
            "ATM pin verified!\n",
            "\n",
            "Existing bank balance of Milind is: 25000\n",
            "Enter amount to be deposited: 500\n",
            "Updated bank balance of Milind is: 25500\n"
          ]
        }
      ],
      "source": [
        "class Bank:\n",
        "  def __init__(self, cust_name, bank_name, atm_pin, balance):\n",
        "    self.cust_name = cust_name\n",
        "    self.bank_name = bank_name\n",
        "    self.atm_pin = atm_pin\n",
        "    self.balance = balance\n",
        "\n",
        "\n",
        "class withdraw_money(Bank):\n",
        "\n",
        "  def check_pin(self):\n",
        "    account_pin = int(input(\"Enter you atm pin: \"))\n",
        "    if account_pin == self.atm_pin:\n",
        "      print(\"ATM pin verified!\\n\")\n",
        "    else:\n",
        "      print(\"Invalid ATM pin!\")\n",
        "    print(\"Existing bank balance of\",self.cust_name,\"is:\",self.balance)\n",
        "    amount = int(input(\"Enter amount to be withdrawn: \"))\n",
        "    if amount <= self.balance:\n",
        "      updated_balance = self.balance - amount\n",
        "      print(\"Updated bank balance of\",self.cust_name,\"is:\",updated_balance)\n",
        "    else:\n",
        "      print(\"Insufficient balance!\")\n",
        "\n",
        "\n",
        "class deposit_money(Bank):\n",
        "\n",
        "  def enter_pin(self):\n",
        "    account_pin = int(input(\"Enter you atm pin: \"))\n",
        "    if account_pin == self.atm_pin:\n",
        "      print(\"ATM pin verified!\\n\")\n",
        "    else:\n",
        "      print(\"Invalid ATM pin!\")\n",
        "    print(\"Existing bank balance of\",self.cust_name,\"is:\",self.balance)\n",
        "    deposit_amount = int(input(\"Enter amount to be deposited: \"))\n",
        "    updated_balance = self.balance + deposit_amount\n",
        "    print(\"Updated bank balance of\",self.cust_name,\"is:\",updated_balance)\n",
        "\n",
        "print(\"CUSTOMER 1\\n\")\n",
        "cust1 = withdraw_money(\"Varnika\", \"SBI\", 1234, 10000)\n",
        "cust1.check_pin()\n",
        "print(\"\\nCUSTOMER 2\\n\")\n",
        "cust2 = deposit_money(\"Milind\", \"ICICI\", 5467, 25000)\n",
        "cust2.enter_pin()"
      ]
    },
    {
      "cell_type": "code",
      "source": [],
      "metadata": {
        "id": "aZofjN99QLCV"
      },
      "execution_count": null,
      "outputs": []
    }
  ]
}