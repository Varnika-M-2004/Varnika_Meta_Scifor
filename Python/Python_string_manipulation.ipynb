{
  "nbformat": 4,
  "nbformat_minor": 0,
  "metadata": {
    "colab": {
      "provenance": []
    },
    "kernelspec": {
      "name": "python3",
      "display_name": "Python 3"
    },
    "language_info": {
      "name": "python"
    }
  },
  "cells": [
    {
      "cell_type": "markdown",
      "source": [
        "**1. Concatenation** - Combining two or more strings using the + operator."
      ],
      "metadata": {
        "id": "s6HalxEEzLu9"
      }
    },
    {
      "cell_type": "code",
      "execution_count": 1,
      "metadata": {
        "colab": {
          "base_uri": "https://localhost:8080/"
        },
        "id": "sJYcN85ZzED2",
        "outputId": "3833a113-5011-4bf6-e5c7-7e0c5e53355c"
      },
      "outputs": [
        {
          "output_type": "stream",
          "name": "stdout",
          "text": [
            "Concatenated string:  Varnika Mulay\n"
          ]
        }
      ],
      "source": [
        "string1 = \"Varnika\"\n",
        "string2 = \"Mulay\"\n",
        "string3 = string1 + \" \" + string2\n",
        "print(\"Concatenated string: \",string3)"
      ]
    },
    {
      "cell_type": "markdown",
      "source": [
        "**2. Case Changing** - Converting strings to upper case, lower case, or title case."
      ],
      "metadata": {
        "id": "wfdxiVlKz3kS"
      }
    },
    {
      "cell_type": "code",
      "source": [
        "string1 = \"My name is Varnika\"\n",
        "upper_string1 = string1.upper()\n",
        "lower_string1 = string1.lower()\n",
        "title_string1 = string1.title()\n",
        "print(\"Original string: \",string1)\n",
        "print(\"CASE CONVERSIONS:\\n\")\n",
        "print(\"Upper case: \",upper_string1)\n",
        "print(\"Lower case: \",lower_string1)\n",
        "print(\"Title case: \",title_string1)"
      ],
      "metadata": {
        "colab": {
          "base_uri": "https://localhost:8080/"
        },
        "id": "8NvJQEnXzyqV",
        "outputId": "936cea66-900b-4dbb-a800-dc1c67a52960"
      },
      "execution_count": 5,
      "outputs": [
        {
          "output_type": "stream",
          "name": "stdout",
          "text": [
            "Original string:  My name is Varnika\n",
            "CASE CONVERSIONS:\n",
            "\n",
            "Upper case:  MY NAME IS VARNIKA\n",
            "Lower case:  my name is varnika\n",
            "Title case:  My Name Is Varnika\n"
          ]
        }
      ]
    },
    {
      "cell_type": "markdown",
      "source": [
        "**3. String splitting** - Splitting a string into a list of substrings by spaces"
      ],
      "metadata": {
        "id": "Q9i0hIez0rdK"
      }
    },
    {
      "cell_type": "code",
      "source": [
        "string1 = \"This is an example of string splitting\"\n",
        "new_string1 = string1.split()\n",
        "print(\"ORIGINAL STRING: \")\n",
        "print(string1)\n",
        "print(\"STRING SPLITTING OUTPUT: \")\n",
        "print(new_string1)"
      ],
      "metadata": {
        "colab": {
          "base_uri": "https://localhost:8080/"
        },
        "id": "0RCDxUny0fZL",
        "outputId": "5954dda2-8ed0-45c5-a5a2-52215c8591cc"
      },
      "execution_count": 7,
      "outputs": [
        {
          "output_type": "stream",
          "name": "stdout",
          "text": [
            "ORIGINAL STRING: \n",
            "This is an example of string splitting\n",
            "STRING SPLITTING OUTPUT: \n",
            "['This', 'is', 'an', 'example', 'of', 'string', 'splitting']\n"
          ]
        }
      ]
    },
    {
      "cell_type": "markdown",
      "source": [
        "**4. String joining** - Joining a list of strings into a single string."
      ],
      "metadata": {
        "id": "msRL-P-U1RfZ"
      }
    },
    {
      "cell_type": "code",
      "source": [
        "string_list = ['This', 'is', 'an', 'example', 'of', 'string', 'splitting']\n",
        "symbol = \"|\"\n",
        "combined_str = symbol.join(string_list)\n",
        "print(\"ORIGINAL LIST: \")\n",
        "print(string_list)\n",
        "print(\"COMBINED STRING: \")\n",
        "print(combined_str)"
      ],
      "metadata": {
        "colab": {
          "base_uri": "https://localhost:8080/"
        },
        "id": "3uDG86KL1KJx",
        "outputId": "e685aec1-d3bc-4d63-bb2c-8cbaf523ff34"
      },
      "execution_count": 9,
      "outputs": [
        {
          "output_type": "stream",
          "name": "stdout",
          "text": [
            "ORIGINAL LIST: \n",
            "['This', 'is', 'an', 'example', 'of', 'string', 'splitting']\n",
            "COMBINED STRING: \n",
            "This|is|an|example|of|string|splitting\n"
          ]
        }
      ]
    },
    {
      "cell_type": "markdown",
      "source": [
        "**5. Finding substring** - Finding the position of a substring in the original string."
      ],
      "metadata": {
        "id": "BPeRsir-175P"
      }
    },
    {
      "cell_type": "code",
      "source": [
        "string1 = \"This is an example of finding substrings\"\n",
        "key = \"example\"\n",
        "index_position = string1.find(key)\n",
        "print(\"ORIGINAL STRING: \")\n",
        "print(string1)\n",
        "print(\"Substring to be found: \",key)\n",
        "print(\"INDEX POSITION: \",index_position)\n",
        "print(f\"Index position of {key} is: \",index_position)"
      ],
      "metadata": {
        "colab": {
          "base_uri": "https://localhost:8080/"
        },
        "id": "G1PHnt-E1r0F",
        "outputId": "5fae727e-b4cf-4682-c8e9-08e81a8b3233"
      },
      "execution_count": 13,
      "outputs": [
        {
          "output_type": "stream",
          "name": "stdout",
          "text": [
            "ORIGINAL STRING: \n",
            "This is an example of finding substrings\n",
            "Substring to be found:  example\n",
            "INDEX POSITION:  11\n",
            "Index position of example is:  11\n"
          ]
        }
      ]
    },
    {
      "cell_type": "markdown",
      "source": [
        "**6. Replacing substring** - Replacing an existing substring with a new substring."
      ],
      "metadata": {
        "id": "cguQiP-n2yMk"
      }
    },
    {
      "cell_type": "code",
      "source": [
        "string1 = \"This is an example of replacing substrings.\"\n",
        "word_to_be_replaced = \"substrings\"\n",
        "new_word = \"words\"\n",
        "updated_string1 = string1.replace(word_to_be_replaced, new_word)\n",
        "print(\"ORIGINAL STRING:\\n\",string1)\n",
        "print(\"UPDATED STRING:\\n\",updated_string1)"
      ],
      "metadata": {
        "colab": {
          "base_uri": "https://localhost:8080/"
        },
        "id": "anISfwhy2iKX",
        "outputId": "eb044a0b-fb28-40c2-8566-ce2269654a05"
      },
      "execution_count": 15,
      "outputs": [
        {
          "output_type": "stream",
          "name": "stdout",
          "text": [
            "ORIGINAL STRING:\n",
            " This is an example of replacing substrings.\n",
            "UPDATED STRING:\n",
            " This is an example of replacing words.\n"
          ]
        }
      ]
    },
    {
      "cell_type": "markdown",
      "source": [
        "**7. String formatting** - Inserting variables into strings using f-strings (formatted string literals)"
      ],
      "metadata": {
        "id": "ro90cb9a3lAI"
      }
    },
    {
      "cell_type": "code",
      "source": [
        "fruit = \"Mango\"\n",
        "color = \"yellow\"\n",
        "print(f\"{fruit} is a {color} colored fruit!\")"
      ],
      "metadata": {
        "colab": {
          "base_uri": "https://localhost:8080/"
        },
        "id": "g9smYWfS3dQi",
        "outputId": "ad34661b-4220-403d-d665-04c118e7484a"
      },
      "execution_count": 16,
      "outputs": [
        {
          "output_type": "stream",
          "name": "stdout",
          "text": [
            "Mango is a yellow colored fruit!\n"
          ]
        }
      ]
    },
    {
      "cell_type": "markdown",
      "source": [
        "**8. Stripping whitespace** - Removing leading or trailing whitespace from a string."
      ],
      "metadata": {
        "id": "oJjWlJDh4Nj9"
      }
    },
    {
      "cell_type": "code",
      "source": [
        "word1 = \"   Hi! My name is Varnika. \"\n",
        "print(\"ORIGINAL STRING:\\n \",word1)\n",
        "print(\"\\nLEFT STRIP: \\n\",word1.lstrip())\n",
        "print(\"\\nRIGHT STRIP: \\n\",word1.rstrip())\n",
        "print(\"\\nFULL STRIP: \\n\",word1.strip())"
      ],
      "metadata": {
        "colab": {
          "base_uri": "https://localhost:8080/"
        },
        "id": "4WmxtKzq4Ib0",
        "outputId": "0c876f46-8936-49b5-a5cc-7210ac0650be"
      },
      "execution_count": 24,
      "outputs": [
        {
          "output_type": "stream",
          "name": "stdout",
          "text": [
            "ORIGINAL STRING:\n",
            "     Hi! My name is Varnika. \n",
            "\n",
            "LEFT STRIP: \n",
            " Hi! My name is Varnika. \n",
            "\n",
            "RIGHT STRIP: \n",
            "    Hi! My name is Varnika.\n",
            "\n",
            "FULL STRIP: \n",
            " Hi! My name is Varnika.\n"
          ]
        }
      ]
    },
    {
      "cell_type": "markdown",
      "source": [
        "**9. String Slicing** - Extract substrings from main string using slicing"
      ],
      "metadata": {
        "id": "ngafYNEC5LGZ"
      }
    },
    {
      "cell_type": "code",
      "source": [
        "string1 = \"This is an example of string slicing\"\n",
        "print(string1[0:7])\n",
        "print(string1[11:18])\n",
        "print(string1[22:])\n",
        "print(string1[:19])\n",
        "print(string1[-7:])"
      ],
      "metadata": {
        "colab": {
          "base_uri": "https://localhost:8080/"
        },
        "id": "XnsKQsVF4xgj",
        "outputId": "ef05ba81-8cac-4ca3-d4fe-d80a94133f94"
      },
      "execution_count": 33,
      "outputs": [
        {
          "output_type": "stream",
          "name": "stdout",
          "text": [
            "This is\n",
            "example\n",
            "string slicing\n",
            "This is an example \n",
            "slicing\n"
          ]
        }
      ]
    },
    {
      "cell_type": "markdown",
      "source": [
        "**10. Reversing a string** - Reversing the characters in a given string"
      ],
      "metadata": {
        "id": "0ZdOSCqe6Fnl"
      }
    },
    {
      "cell_type": "code",
      "source": [
        "string1 = \"Varnika\"\n",
        "reversed_str = string1[::-1]\n",
        "print(\"ORIGINAL STRING: \",string1)\n",
        "print(\"REVERSED STRING: \",reversed_str)"
      ],
      "metadata": {
        "colab": {
          "base_uri": "https://localhost:8080/"
        },
        "id": "7GvcHKqY5YGz",
        "outputId": "e0fae5ea-d5fb-49d3-bee7-e4dcb82110dd"
      },
      "execution_count": 34,
      "outputs": [
        {
          "output_type": "stream",
          "name": "stdout",
          "text": [
            "ORIGINAL STRING:  Varnika\n",
            "REVERSED STRING:  akinraV\n"
          ]
        }
      ]
    },
    {
      "cell_type": "markdown",
      "source": [
        "**11. Checking string content** - Checking if a string contains only digits, letters, is alphanumeric, or if a substring exists within the string."
      ],
      "metadata": {
        "id": "-8B-xCnM6gzP"
      }
    },
    {
      "cell_type": "code",
      "source": [
        "word1 = \"GoogleColab\"\n",
        "word2 = \"876589\"\n",
        "word3 = \"Python3\"\n",
        "word4 = \"Python Programming\"\n",
        "print(f\"CHECK FOR DIGITS IN {word2}:\",word2.isdigit())\n",
        "print(f\"CHECK FOR LETTERS IN {word1}:\",word1.isalpha())\n",
        "print(f\"CHECK FOR ALPHANUMERIC IN {word3}:\",word3.isalnum())\n",
        "print(\"\\nORIGINAL STRING:\",word4)\n",
        "print(\"Python\" in word4)\n",
        "print(\"coding\" in word4)"
      ],
      "metadata": {
        "colab": {
          "base_uri": "https://localhost:8080/"
        },
        "id": "zK8f1C5x6avW",
        "outputId": "84f3c2da-6421-46a9-c7b7-18a65bb6ee36"
      },
      "execution_count": 43,
      "outputs": [
        {
          "output_type": "stream",
          "name": "stdout",
          "text": [
            "CHECK FOR DIGITS IN 876589: True\n",
            "CHECK FOR LETTERS IN GoogleColab: True\n",
            "CHECK FOR ALPHANUMERIC IN Python3: True\n",
            "\n",
            "ORIGINAL STRING: Python Programming\n",
            "True\n",
            "False\n"
          ]
        }
      ]
    },
    {
      "cell_type": "markdown",
      "source": [
        "**COMBINED EXAMPLE**"
      ],
      "metadata": {
        "id": "P1VQTGrj8Jw0"
      }
    },
    {
      "cell_type": "code",
      "source": [
        "string1 = \"The young girl was baking a cake in her bakery.\"\n",
        "updated_str = string1.replace(\"cake\", \"bread\")\n",
        "title_string = updated_str.title()\n",
        "split_str = title_string.split()\n",
        "merged_string = \"--\".join(split_str)\n",
        "\n",
        "print(\"ORIGINAL STRING:\",string1)\n",
        "print(\"STRING WITH REPLACE:\",updated_str)\n",
        "print(\"STRING WITH TITLE:\",title_string)\n",
        "print(\"STRING WITH SPLIT:\",split_str)\n",
        "print(\"STRING WITH JOIN:\",merged_string)"
      ],
      "metadata": {
        "colab": {
          "base_uri": "https://localhost:8080/"
        },
        "id": "X0PLaW4u7JYH",
        "outputId": "d58dd701-5011-4d0e-b19c-99ecca94bdfe"
      },
      "execution_count": 44,
      "outputs": [
        {
          "output_type": "stream",
          "name": "stdout",
          "text": [
            "ORIGINAL STRING: The young girl was baking a cake in her bakery.\n",
            "STRING WITH REPLACE: The young girl was baking a bread in her bakery.\n",
            "STRING WITH TITLE: The Young Girl Was Baking A Bread In Her Bakery.\n",
            "STRING WITH SPLIT: ['The', 'Young', 'Girl', 'Was', 'Baking', 'A', 'Bread', 'In', 'Her', 'Bakery.']\n",
            "STRING WITH JOIN: The--Young--Girl--Was--Baking--A--Bread--In--Her--Bakery.\n"
          ]
        }
      ]
    },
    {
      "cell_type": "code",
      "source": [],
      "metadata": {
        "id": "rZfu88989RvM"
      },
      "execution_count": null,
      "outputs": []
    }
  ]
}