{
  "nbformat": 4,
  "nbformat_minor": 0,
  "metadata": {
    "colab": {
      "provenance": []
    },
    "kernelspec": {
      "name": "python3",
      "display_name": "Python 3"
    },
    "language_info": {
      "name": "python"
    }
  },
  "cells": [
    {
      "cell_type": "markdown",
      "source": [
        "**for loop**"
      ],
      "metadata": {
        "id": "ShWUbA1mwMZK"
      }
    },
    {
      "cell_type": "code",
      "execution_count": null,
      "metadata": {
        "id": "WFW7_RSSiyS5",
        "colab": {
          "base_uri": "https://localhost:8080/"
        },
        "outputId": "9a353085-2876-4242-d375-74beb25a76de"
      },
      "outputs": [
        {
          "output_type": "stream",
          "name": "stdout",
          "text": [
            "2 x  1 = 2\n",
            "2 x  2 = 4\n",
            "2 x  3 = 6\n",
            "2 x  4 = 8\n",
            "2 x  5 = 10\n",
            "2 x  6 = 12\n",
            "2 x  7 = 14\n",
            "2 x  8 = 16\n",
            "2 x  9 = 18\n",
            "2 x  10 = 20\n"
          ]
        }
      ],
      "source": [
        "x = 2\n",
        "for i in range(1,11):\n",
        "  print(x, \"x \",i, \"=\",i*x)\n",
        "  i = i+1"
      ]
    },
    {
      "cell_type": "code",
      "source": [
        "for i in range(10):\n",
        "  print(\"*\" * i)\n",
        "  i += 1"
      ],
      "metadata": {
        "colab": {
          "base_uri": "https://localhost:8080/"
        },
        "id": "7FUjDEvYjzfv",
        "outputId": "2a81755a-96bf-4fee-871a-abd3d831282b"
      },
      "execution_count": null,
      "outputs": [
        {
          "output_type": "stream",
          "name": "stdout",
          "text": [
            "\n",
            "*\n",
            "**\n",
            "***\n",
            "****\n",
            "*****\n",
            "******\n",
            "*******\n",
            "********\n",
            "*********\n"
          ]
        }
      ]
    },
    {
      "cell_type": "code",
      "source": [
        "fruits = ['apple', 'orange', 'banana', 'pineapple']\n",
        "for i in fruits:\n",
        "  print(i)"
      ],
      "metadata": {
        "colab": {
          "base_uri": "https://localhost:8080/"
        },
        "id": "F0XP7gqekvWl",
        "outputId": "879cf4e3-8b50-4bc2-88b0-993c364619ca"
      },
      "execution_count": null,
      "outputs": [
        {
          "output_type": "stream",
          "name": "stdout",
          "text": [
            "apple\n",
            "orange\n",
            "banana\n",
            "pineapple\n"
          ]
        }
      ]
    },
    {
      "cell_type": "markdown",
      "source": [
        "**while loop**"
      ],
      "metadata": {
        "id": "SNj1caWloI0x"
      }
    },
    {
      "cell_type": "code",
      "source": [
        "i = 5\n",
        "while(i<10):\n",
        "  print(i)\n",
        "  i=i+1"
      ],
      "metadata": {
        "colab": {
          "base_uri": "https://localhost:8080/"
        },
        "id": "wq1ar8KdlJy8",
        "outputId": "fc9b5be4-59d4-405d-e422-ead2469f0504"
      },
      "execution_count": null,
      "outputs": [
        {
          "output_type": "stream",
          "name": "stdout",
          "text": [
            "5\n",
            "6\n",
            "7\n",
            "8\n",
            "9\n"
          ]
        }
      ]
    },
    {
      "cell_type": "markdown",
      "source": [
        "**do - while loop**"
      ],
      "metadata": {
        "id": "Am_JZWvnoHEk"
      }
    },
    {
      "cell_type": "code",
      "source": [
        "while True:\n",
        "    num1 = int(input(\"Enter a number: \"))\n",
        "    if num1 % 2 == 0:\n",
        "        break\n",
        "    else:\n",
        "        print(\"Please enter an even number!\")\n",
        "print(\"Even number!\")\n"
      ],
      "metadata": {
        "colab": {
          "base_uri": "https://localhost:8080/"
        },
        "id": "6aqUcrqnlm9Q",
        "outputId": "f22f30a4-613d-4907-dd5c-b06882f51b2a"
      },
      "execution_count": null,
      "outputs": [
        {
          "output_type": "stream",
          "name": "stdout",
          "text": [
            "Enter a number: 35\n",
            "Please enter an even number!\n",
            "Enter a number: 32\n",
            "Even number!\n"
          ]
        }
      ]
    },
    {
      "cell_type": "code",
      "source": [
        "s = input(\"enter number: \")\n",
        "if s.isdigit() and len(s)==1:\n",
        "  print(\"True\")"
      ],
      "metadata": {
        "colab": {
          "base_uri": "https://localhost:8080/"
        },
        "id": "XokysGaRs_zv",
        "outputId": "8a4f6ef1-e9cb-44fb-bdee-438006984957"
      },
      "execution_count": null,
      "outputs": [
        {
          "output_type": "stream",
          "name": "stdout",
          "text": [
            "enter number: 3\n",
            "True\n"
          ]
        }
      ]
    },
    {
      "cell_type": "code",
      "source": [],
      "metadata": {
        "id": "Q7O3dKZFtPln"
      },
      "execution_count": null,
      "outputs": []
    }
  ]
}