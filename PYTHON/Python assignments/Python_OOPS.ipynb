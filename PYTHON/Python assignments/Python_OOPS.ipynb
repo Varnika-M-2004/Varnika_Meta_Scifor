{
  "nbformat": 4,
  "nbformat_minor": 0,
  "metadata": {
    "colab": {
      "provenance": []
    },
    "kernelspec": {
      "name": "python3",
      "display_name": "Python 3"
    },
    "language_info": {
      "name": "python"
    }
  },
  "cells": [
    {
      "cell_type": "code",
      "source": [
        "class person:\n",
        "  def __init__(self, name, age):\n",
        "    self.name = name #instance attribute\n",
        "    self.age = age #instance attribute\n",
        "\n",
        "  def greet(self):\n",
        "    print(f\"Hello, my name is {self.name}, and I'm {self.age} years old.\")\n",
        "\n",
        "person1 = person(\"Varnika\", 20)\n",
        "print(person1.name)\n",
        "print(person1.age)\n",
        "person1.greet()"
      ],
      "metadata": {
        "colab": {
          "base_uri": "https://localhost:8080/"
        },
        "id": "xTue83YzeDzl",
        "outputId": "bb2aa186-a4ad-49b8-e2bd-aa7df1b4e5af"
      },
      "execution_count": null,
      "outputs": [
        {
          "output_type": "stream",
          "name": "stdout",
          "text": [
            "Varnika\n",
            "20\n",
            "Hello, my name is Varnika, and I'm 20 years old.\n"
          ]
        }
      ]
    },
    {
      "cell_type": "code",
      "source": [
        "class person:\n",
        "  def __init__(self):\n",
        "    self.name = \"Varnika\" #instance attribute\n",
        "    self.age = 20 #instance attribute\n",
        "\n",
        "  def greet(self):\n",
        "    print(f\"Hello, my name is {self.name}, and I'm {self.age} years old.\")\n",
        "\n",
        "person1 = person()\n",
        "person1.greet()"
      ],
      "metadata": {
        "colab": {
          "base_uri": "https://localhost:8080/"
        },
        "id": "U-L7nvmmb451",
        "outputId": "c319b8bc-a0a6-42cc-ce63-56597f417134"
      },
      "execution_count": null,
      "outputs": [
        {
          "output_type": "stream",
          "name": "stdout",
          "text": [
            "Hello, my name is Varnika, and I'm 20 years old.\n"
          ]
        }
      ]
    },
    {
      "cell_type": "code",
      "source": [
        "class animal:\n",
        "  def __init__(self, name):\n",
        "    self.name = name\n",
        "\n",
        "  def animal_sound(self):\n",
        "    if self.name == 'Dog':\n",
        "      print(\"Sound of\",self.name, \"is bark!\")\n",
        "    elif self.name == 'Cat':\n",
        "      print(\"Sound of\",self.name, \"is meow!\")\n",
        "\n",
        "animal1 = animal(\"Dog\")\n",
        "animal1.animal_sound()\n",
        "\n",
        "animal2 = animal(\"Cat\")\n",
        "animal2.animal_sound()"
      ],
      "metadata": {
        "colab": {
          "base_uri": "https://localhost:8080/"
        },
        "id": "121qpuVzg9Ft",
        "outputId": "9b9dba00-e7c2-47fb-c5fb-4b539e3652b8"
      },
      "execution_count": null,
      "outputs": [
        {
          "output_type": "stream",
          "name": "stdout",
          "text": [
            "Sound of Dog is bark!\n",
            "Sound of Cat is meow!\n"
          ]
        }
      ]
    },
    {
      "cell_type": "code",
      "source": [
        "class fruit:\n",
        "  def __init__(self, name, color):\n",
        "    self.name = name\n",
        "    self.color = color\n",
        "\n",
        "  def fruit_info(self):\n",
        "    if (self.name == 'Mango') and (self.color=='yellow'):\n",
        "      print(\"Fruit = \",self.name,\"hence Summer season.\")\n",
        "    elif (self.name == 'Grapes') and (self.color=='green'):\n",
        "      print(\"Fruit = \",self.name,\"hence winter season.\")\n",
        "    else:\n",
        "      print(\"Fruit = \",self.name,\"but fruit info not provided.\")\n",
        "\n",
        "fruit1 = fruit(\"Mango\", 'yellow')\n",
        "fruit1.fruit_info()\n",
        "\n",
        "fruit2 = fruit(\"Orange\", 'orange')\n",
        "fruit2.fruit_info()\n",
        "\n",
        "fruit3 = fruit(\"Grapes\", 'black')\n",
        "fruit3.fruit_info()"
      ],
      "metadata": {
        "id": "1rOiYo5Nm_TR",
        "outputId": "837f4d69-9170-4191-c1d4-7073d69321c5",
        "colab": {
          "base_uri": "https://localhost:8080/"
        }
      },
      "execution_count": null,
      "outputs": [
        {
          "output_type": "stream",
          "name": "stdout",
          "text": [
            "Fruit =  Mango hence Summer season.\n",
            "Fruit =  Orange but fruit info not provided.\n",
            "Fruit =  Grapes but fruit info not provided.\n"
          ]
        }
      ]
    },
    {
      "cell_type": "markdown",
      "source": [
        "# **Encapsulation**"
      ],
      "metadata": {
        "id": "w_rjbYuCkIBj"
      }
    },
    {
      "cell_type": "code",
      "source": [
        "#in encapsulation, we initialize the attribut using __ like self.__attribute"
      ],
      "metadata": {
        "id": "Yt4F4RG8h3QK"
      },
      "execution_count": null,
      "outputs": []
    },
    {
      "cell_type": "code",
      "source": [
        "class employee:\n",
        "  def __init__(self, name, age, gender, company):\n",
        "    self.name = name\n",
        "    self.age = age\n",
        "    self.gender = gender\n",
        "    self.__company = company\n",
        "\n",
        "  def emp_details(self):\n",
        "    print(\"\\nEmployee details: \")\n",
        "    print(\"Employee name:\",self.name)\n",
        "    print(\"Employee age:\",self.age)\n",
        "    print(\"Employee gender:\",self.gender)\n",
        "    print(\"Employee company:\",self.__company)\n",
        "\n",
        "print(\"Employee 1 details:\")\n",
        "emp1 = employee(\"Varnika\", 20, \"F\", \"Meta Scifor\")\n",
        "emp1.emp_details()\n",
        "\n",
        "print(\"\\nEmployee 2 details: \")\n",
        "name = input(\"Enter employee name: \")\n",
        "age = int(input(\"Enter employee age: \"))\n",
        "gender = input(\"Enter employee gender: \")\n",
        "company = input(\"Enter employee company: \")\n",
        "emp2 = employee(name, age, gender, company)\n",
        "emp2.emp_details()"
      ],
      "metadata": {
        "colab": {
          "base_uri": "https://localhost:8080/"
        },
        "id": "6thtMF4diXun",
        "outputId": "3a71cb47-1529-4750-868b-5e546da4848b"
      },
      "execution_count": null,
      "outputs": [
        {
          "output_type": "stream",
          "name": "stdout",
          "text": [
            "Employee 1 details:\n",
            "\n",
            "Employee details: \n",
            "Employee name: Varnika\n",
            "Employee age: 20\n",
            "Employee gender: F\n",
            "Employee company: Meta Scifor\n",
            "\n",
            "Employee 2 details: \n",
            "Enter employee name: Preeti\n",
            "Enter employee age: 35\n",
            "Enter employee gender: F\n",
            "Enter employee company: Bosch\n",
            "\n",
            "Employee details: \n",
            "Employee name: Preeti\n",
            "Employee age: 35\n",
            "Employee gender: F\n",
            "Employee company: Bosch\n"
          ]
        }
      ]
    },
    {
      "cell_type": "code",
      "source": [
        "class student:\n",
        "    def __init__(self, rollno, name, grade, subject, marks):\n",
        "        self.rollno = rollno\n",
        "        self.name = name\n",
        "        self.grade = grade\n",
        "        self.subject = subject\n",
        "        self.marks = marks\n",
        "\n",
        "    def display_stud_info(self):\n",
        "        print(\"\\nStudent details: \")\n",
        "        print(\"Student rollno:\", self.rollno)\n",
        "        print(\"Student name:\", self.name)\n",
        "        print(\"Student grade:\", self.grade)\n",
        "        print(\"Student subject:\", self.subject)\n",
        "\n",
        "    def get_result(self):\n",
        "        print(\"\\nSTUDENT MARKS: \")\n",
        "        if 40 <= self.marks <= 49:\n",
        "            print(self.name, \"got C grade in\", self.subject, \"subject.\")\n",
        "        elif 50 <= self.marks <= 59:\n",
        "            print(self.name, \"got B grade in\", self.subject, \"subject.\")\n",
        "        elif 60 <= self.marks <= 100:\n",
        "            print(self.name, \"got A grade in\", self.subject, \"subject.\")\n",
        "        else:\n",
        "            print(self.name, \"failed in\", self.subject, \"subject.\")\n",
        "\n",
        "# Initialize an empty list to store the student details\n",
        "students_info = []\n",
        "\n",
        "# Ask for the number of students to be displayed\n",
        "choice = int(input(\"Enter number of students to be displayed: \"))\n",
        "\n",
        "'''we use _ in the for loop as we don't want to perform any operations in the loop body using any variable like i.\n",
        "Hence, we use _ which performs the same task and indicates that the loop is for repetition purposes only.\n",
        "'''\n",
        "for _ in range(choice):\n",
        "    rollno = input(\"Enter student roll number: \")\n",
        "    name = input(\"Enter student name: \")\n",
        "    grade = input(\"Enter student grade: \")\n",
        "    subject = input(\"Enter student subject: \")\n",
        "    marks = int(input(\"Enter student marks: \"))\n",
        "\n",
        "    # Create a student object and append it to the list\n",
        "    student_details = student(rollno, name, grade, subject, marks)\n",
        "    students_info.append(student_details)\n",
        "\n",
        "# Display the student details and the results\n",
        "for stud in students_info:\n",
        "    stud.display_stud_info()\n",
        "    stud.get_result()\n"
      ],
      "metadata": {
        "colab": {
          "base_uri": "https://localhost:8080/"
        },
        "id": "zYBuXETUZvUg",
        "outputId": "a6924239-9eaa-442c-a14a-c8bb7582a08e"
      },
      "execution_count": null,
      "outputs": [
        {
          "output_type": "stream",
          "name": "stdout",
          "text": [
            "Enter number of students to be displayed: 2\n",
            "Enter student roll number: 101\n",
            "Enter student name: Varnika\n",
            "Enter student grade: 12\n",
            "Enter student subject: Math\n",
            "Enter student marks: 82\n",
            "Enter student roll number: 102\n",
            "Enter student name: Milind\n",
            "Enter student grade: 11\n",
            "Enter student subject: Science\n",
            "Enter student marks: 90\n",
            "\n",
            "Student details: \n",
            "Student rollno: 101\n",
            "Student name: Varnika\n",
            "Student grade: 12\n",
            "Student subject: Math\n",
            "\n",
            "STUDENT MARKS: \n",
            "Varnika got A grade in Math subject.\n",
            "\n",
            "Student details: \n",
            "Student rollno: 102\n",
            "Student name: Milind\n",
            "Student grade: 11\n",
            "Student subject: Science\n",
            "\n",
            "STUDENT MARKS: \n",
            "Milind got A grade in Science subject.\n"
          ]
        }
      ]
    },
    {
      "cell_type": "markdown",
      "source": [
        "# **Polymorphism**"
      ],
      "metadata": {
        "id": "s5tuiQcWj7D4"
      }
    },
    {
      "cell_type": "code",
      "source": [
        "class Fruit:\n",
        "    def display_info(self):\n",
        "        print(\"Fruit details!\")\n",
        "#inherit Apple class from Fruit class\n",
        "#display_info() function will overwrite the function written in the main class\n",
        "class Apple(Fruit):\n",
        "    def display_info(self):\n",
        "        print(\"This is an apple.\")\n",
        "#inherit Banana class from Fruit class\n",
        "class Banana(Fruit):\n",
        "    def display_info(self):\n",
        "        print(\"This is a banana.\")\n",
        "\n",
        "# Using polymorphism\n",
        "fruit1 = Apple()\n",
        "fruit2 = Banana()\n",
        "\n",
        "fruit1.display_info()\n",
        "fruit2.display_info()\n"
      ],
      "metadata": {
        "colab": {
          "base_uri": "https://localhost:8080/"
        },
        "id": "Rjkdch4daYJm",
        "outputId": "b8470838-bb4e-49d6-c1d1-22362e7b246b"
      },
      "execution_count": null,
      "outputs": [
        {
          "output_type": "stream",
          "name": "stdout",
          "text": [
            "This is an apple.\n",
            "This is a banana.\n"
          ]
        }
      ]
    },
    {
      "cell_type": "code",
      "source": [
        "class Fruit:\n",
        "    def display_info(self):\n",
        "        print(\"Fruit details!\")\n",
        "#Apple class is inheriting the Fruit class\n",
        "#display_info() function will overwrite the function written in the main class\n",
        "class Apple(Fruit):\n",
        "    def display_info(self):\n",
        "        print(\"This is an apple.\")\n",
        "#inherit Banana class from Fruit class\n",
        "class Banana(Fruit):\n",
        "    def display_info(self):\n",
        "        print(\"This is a banana.\")\n",
        "\n",
        "def display_fruit(fruit):\n",
        "  fruit.display_info() #polymorphic behavior\n",
        "\n",
        "# Using polymorphism\n",
        "fruit1 = Apple()\n",
        "fruit2 = Banana()\n",
        "fruit3 = Fruit()\n",
        "\n",
        "display_fruit(fruit1)\n",
        "display_fruit(fruit2)\n",
        "display_fruit(fruit3)\n"
      ],
      "metadata": {
        "colab": {
          "base_uri": "https://localhost:8080/"
        },
        "id": "kqMFtYECkqSQ",
        "outputId": "bb4a0d72-e448-43f6-a8b7-f55e17928898"
      },
      "execution_count": null,
      "outputs": [
        {
          "output_type": "stream",
          "name": "stdout",
          "text": [
            "This is an apple.\n",
            "This is a banana.\n",
            "Fruit details!\n"
          ]
        }
      ]
    },
    {
      "cell_type": "markdown",
      "source": [
        "# **Encapsulation**"
      ],
      "metadata": {
        "id": "RQWdkevcvfJA"
      }
    },
    {
      "cell_type": "code",
      "source": [
        "class Fruit:\n",
        "    def __init__(self, name, color, weight, price_per_kg):\n",
        "        self.__name = name\n",
        "        self.__color = color\n",
        "        self.__weight = weight\n",
        "        self.__price_per_kg = price_per_kg\n",
        "\n",
        "    def display_info(self):\n",
        "        print(f\"Fruit Info:\\nName: {self.__name}\\nColor: {self.__color}\\nWeight: {self.__weight} kg\\nPrice per kg: ${self.__price_per_kg}\")\n",
        "\n",
        "    def calculate_price(self):\n",
        "        return self.__weight * self.__price_per_kg\n",
        "\n",
        "# Using the Fruit class\n",
        "apple = Fruit(\"Apple\", \"Red\", 0.2, 3)\n",
        "apple.display_info()\n",
        "price = apple.calculate_price()\n",
        "print(f\"Price of the apple: ${price}\")\n"
      ],
      "metadata": {
        "id": "iPEr_ey3rRFD",
        "colab": {
          "base_uri": "https://localhost:8080/"
        },
        "outputId": "cf91b502-2fce-42c1-a149-250b0cb874c7"
      },
      "execution_count": null,
      "outputs": [
        {
          "output_type": "stream",
          "name": "stdout",
          "text": [
            "Fruit Info:\n",
            "Name: Apple\n",
            "Color: Red\n",
            "Weight: 0.2 kg\n",
            "Price per kg: $3\n",
            "Price of the apple: $0.6000000000000001\n"
          ]
        }
      ]
    },
    {
      "cell_type": "markdown",
      "source": [
        "# **Practice codes**"
      ],
      "metadata": {
        "id": "7hxNWJyC52po"
      }
    },
    {
      "cell_type": "code",
      "source": [
        "def factorial(num):\n",
        "  result = 1\n",
        "  for i in range(1, num+1):\n",
        "    result = result * i\n",
        "  return result\n",
        "print(factorial(5))"
      ],
      "metadata": {
        "colab": {
          "base_uri": "https://localhost:8080/"
        },
        "id": "HK3vnypNvUPX",
        "outputId": "9daf51b3-2dbc-4c2f-b479-22e48df0ddcf"
      },
      "execution_count": null,
      "outputs": [
        {
          "output_type": "stream",
          "name": "stdout",
          "text": [
            "120\n"
          ]
        }
      ]
    },
    {
      "cell_type": "code",
      "source": [
        "def is_prime(num):\n",
        "    if num <= 1:\n",
        "        return False\n",
        "    for i in range(2, num):\n",
        "        if num % i == 0:\n",
        "            return False\n",
        "    return True\n",
        "\n",
        "# Example usage:\n",
        "number = 30\n",
        "if is_prime(number):\n",
        "    print(f\"{number} is a prime number.\")\n",
        "else:\n",
        "    print(f\"{number} is not a prime number.\")\n"
      ],
      "metadata": {
        "colab": {
          "base_uri": "https://localhost:8080/"
        },
        "id": "B5xBGPkbxuaf",
        "outputId": "2bc443d5-067d-4ecb-9b2b-d5414bf26641"
      },
      "execution_count": null,
      "outputs": [
        {
          "output_type": "stream",
          "name": "stdout",
          "text": [
            "30 is not a prime number.\n"
          ]
        }
      ]
    },
    {
      "cell_type": "code",
      "source": [
        "def add(num1, num2):\n",
        "  return num1 + num2\n",
        "def subtract(num1, num2):\n",
        "  return num1 - num2\n",
        "def multiply(num1, num2):\n",
        "  return num1 * num2\n",
        "def division(num1, num2):\n",
        "  return num1 / num2\n",
        "\n",
        "print(\"1.Add\\n2.Subtract\\n3.Multiply\\n4.Divide\")\n",
        "choice = int(input(\"Enter choice: \"))\n",
        "\n",
        "match choice:\n",
        "  case 1:\n",
        "    print(add(5,4))\n",
        "  case 2:\n",
        "    print(subtract(5,2))\n",
        "  case 3:\n",
        "    print(multiply(6,7))\n",
        "  case 4:\n",
        "    print(division(8,4))"
      ],
      "metadata": {
        "colab": {
          "base_uri": "https://localhost:8080/"
        },
        "id": "wbLlfBNEy6zv",
        "outputId": "ebb699eb-e7fe-4eeb-d4b3-b2c579e3d833"
      },
      "execution_count": null,
      "outputs": [
        {
          "output_type": "stream",
          "name": "stdout",
          "text": [
            "1.Add\n",
            "2.Subtract\n",
            "3.Multiply\n",
            "4.Divide\n",
            "Enter choice: 1\n",
            "9\n"
          ]
        }
      ]
    },
    {
      "cell_type": "code",
      "source": [
        "def get_index(pos):\n",
        "  l1 = [2,3,4,5]\n",
        "  for i in l1:\n",
        "    if i == pos:\n",
        "      print(l1.index(i))\n",
        "    else:\n",
        "      continue\n",
        "  l1.append(6)\n",
        "  print(l1)\n",
        "\n",
        "get_index(3)\n"
      ],
      "metadata": {
        "colab": {
          "base_uri": "https://localhost:8080/"
        },
        "id": "UBw75ztZ1dUJ",
        "outputId": "bae92bdb-71af-48b9-9e28-aa41c35aedd3"
      },
      "execution_count": null,
      "outputs": [
        {
          "output_type": "stream",
          "name": "stdout",
          "text": [
            "1\n",
            "[2, 3, 4, 5, 6]\n"
          ]
        }
      ]
    },
    {
      "cell_type": "markdown",
      "source": [
        "# **Types of Inheritance**"
      ],
      "metadata": {
        "id": "H90njT8rwbCX"
      }
    },
    {
      "cell_type": "markdown",
      "source": [
        "**SINGLE - LEVEL INHERITANCE**"
      ],
      "metadata": {
        "id": "Fr_W-h9U1K2k"
      }
    },
    {
      "cell_type": "code",
      "source": [
        "#Parent class - shape\n",
        "class shape:\n",
        "  def __init__(self, name):\n",
        "    self.name = name\n",
        "\n",
        "  def shape_features(self):\n",
        "    print(\"\\nSHAPE DETAILS: \")\n",
        "    print(\"Shape name:\",self.name)\n",
        "\n",
        "#Child class - shape_type\n",
        "'''The super() function is used to give access to methods\n",
        "and properties of a parent class.'''\n",
        "class shape_type(shape):\n",
        "  def __init__(self, name, color, no_of_sides):\n",
        "    super().__init__(name)\n",
        "    self.color = color\n",
        "    self.no_of_sides = no_of_sides\n",
        "\n",
        "  def shape_features(self):\n",
        "    super().shape_features()\n",
        "    print(\"Shape color:\",self.color)\n",
        "    print(\"No. of sides:\",self.no_of_sides)\n",
        "\n",
        "shape1 = shape_type(\"Triangle\", \"red\", 3)\n",
        "shape1.shape_features()\n",
        "\n",
        "shape2 = shape_type(\"Square\", 'blue', 4)\n",
        "shape2.shape_features()"
      ],
      "metadata": {
        "id": "k8IcUvAM3QIZ",
        "colab": {
          "base_uri": "https://localhost:8080/"
        },
        "outputId": "37e9b57e-ccb5-4b4d-860e-e6a8a7d15143"
      },
      "execution_count": null,
      "outputs": [
        {
          "output_type": "stream",
          "name": "stdout",
          "text": [
            "\n",
            "SHAPE DETAILS: \n",
            "Shape name: Triangle\n",
            "Shape color: red\n",
            "No. of sides: 3\n",
            "\n",
            "SHAPE DETAILS: \n",
            "Shape name: Square\n",
            "Shape color: blue\n",
            "No. of sides: 4\n"
          ]
        }
      ]
    },
    {
      "cell_type": "code",
      "source": [
        "class Parent:\n",
        "  def name(self):\n",
        "    print(\"I am the parent!\")\n",
        "\n",
        "class child(Parent):\n",
        "  def child_name(self):\n",
        "    print(\"I am the child!\")\n",
        "\n",
        "child_obj = child()\n",
        "child_obj.name()\n",
        "child_obj.child_name()"
      ],
      "metadata": {
        "colab": {
          "base_uri": "https://localhost:8080/"
        },
        "id": "FA7n7Glt0Ff4",
        "outputId": "501fa969-2e48-4767-cfe6-bbc0ae5d0119"
      },
      "execution_count": null,
      "outputs": [
        {
          "output_type": "stream",
          "name": "stdout",
          "text": [
            "I am the parent!\n",
            "I am the child!\n"
          ]
        }
      ]
    },
    {
      "cell_type": "markdown",
      "source": [
        "**MULTI - LEVEL INHERITANCE**"
      ],
      "metadata": {
        "id": "tuiq4Kf11Y0-"
      }
    },
    {
      "cell_type": "code",
      "source": [
        "class grandparent:\n",
        "  def grandparent_info(self):\n",
        "    print(\"I am the grandparent!\")\n",
        "\n",
        "class parent(grandparent):\n",
        "  def parent_info(self):\n",
        "    print(\"I am the parent!\")\n",
        "\n",
        "class child(parent):\n",
        "  def child_info(self):\n",
        "    print(\"I am the child!\")\n",
        "\n",
        "class child_new(parent):\n",
        "  def child_new_info(self):\n",
        "    print(\"I am the second child!\")\n",
        "\n",
        "child_obj1 = child()\n",
        "child_obj1.grandparent_info()\n",
        "child_obj1.parent_info()\n",
        "child_obj1.child_info()\n",
        "\n",
        "print(\"\\nChild 2 info!\")\n",
        "child_obj2 = child_new()\n",
        "child_obj1.grandparent_info()\n",
        "child_obj1.parent_info()\n",
        "child_obj2.child_new_info()"
      ],
      "metadata": {
        "colab": {
          "base_uri": "https://localhost:8080/"
        },
        "id": "4cscU3qK1HOu",
        "outputId": "8ec3c6a1-e7be-4a2c-fc06-bdafa7803b05"
      },
      "execution_count": null,
      "outputs": [
        {
          "output_type": "stream",
          "name": "stdout",
          "text": [
            "I am the grandparent!\n",
            "I am the parent!\n",
            "I am the child!\n",
            "\n",
            "Child 2 info!\n",
            "I am the grandparent!\n",
            "I am the parent!\n",
            "I am the second child!\n"
          ]
        }
      ]
    },
    {
      "cell_type": "code",
      "source": [
        "#Method overriding\n",
        "class Parent:\n",
        "  def name(self):\n",
        "    print(\"I am the parent!\")\n",
        "\n",
        "class child(Parent):\n",
        "  def name(self):\n",
        "    print(\"I am the child!\")\n",
        "\n",
        "class child_new(Parent):\n",
        "  def name(self):\n",
        "    print(\"I am the second child!\")\n",
        "\n",
        "child_obj = child()\n",
        "child_2 = child_new()\n",
        "child_obj.name()\n",
        "child_2.name()"
      ],
      "metadata": {
        "colab": {
          "base_uri": "https://localhost:8080/"
        },
        "id": "-VP_LlXG2K-d",
        "outputId": "01320c4c-7b68-4d2b-8b03-402bface8925"
      },
      "execution_count": null,
      "outputs": [
        {
          "output_type": "stream",
          "name": "stdout",
          "text": [
            "I am the child!\n",
            "I am the second child!\n"
          ]
        }
      ]
    },
    {
      "cell_type": "markdown",
      "source": [
        "**MULTIPLE - LEVEL INHERITANCE**"
      ],
      "metadata": {
        "id": "r1C1e5XN7eY2"
      }
    },
    {
      "cell_type": "code",
      "source": [
        "class father:\n",
        "  def info(self):\n",
        "    print(\"I am the father!\")\n",
        "\n",
        "class mother:\n",
        "  def info(self):\n",
        "    print(\"I am the mother!\")\n",
        "\n",
        "class child(father, mother):\n",
        "  def info(self):\n",
        "    #super() will call only the father class using MRO(Method Resolution Order)\n",
        "    super().info()\n",
        "    print(\"I am the child!\")\n",
        "\n",
        "child_object = child()\n",
        "child_object.info()"
      ],
      "metadata": {
        "colab": {
          "base_uri": "https://localhost:8080/"
        },
        "id": "DUqoPNjO5I8p",
        "outputId": "b1851911-cf2a-4a0c-b55c-8487593b9215"
      },
      "execution_count": null,
      "outputs": [
        {
          "output_type": "stream",
          "name": "stdout",
          "text": [
            "I am the father!\n",
            "I am the child!\n"
          ]
        }
      ]
    },
    {
      "cell_type": "markdown",
      "source": [
        "**Hierarchical Inheritance** -\n",
        "Hierarchical inheritance occurs when multiple subclasses inherit from a single parent class."
      ],
      "metadata": {
        "id": "2jRs2J7FFTSw"
      }
    },
    {
      "cell_type": "code",
      "source": [
        "class Vehicle:\n",
        "  def __init__(self, make, model):\n",
        "    self.make = make\n",
        "    self.model = model\n",
        "\n",
        "  def start_engine(self):\n",
        "    print(\"Engine started!\")\n",
        "\n",
        "  def stop_engine(self):\n",
        "    print(\"Engine stopped!\")\n",
        "\n",
        "class Car(Vehicle):\n",
        "  def __init__(self, make, model, num_doors):\n",
        "    super().__init__(make, model)\n",
        "    self.num_doors = num_doors\n",
        "\n",
        "  def honk(self):\n",
        "    print(\"Car honks!\")\n",
        "\n",
        "class Truck(Vehicle):\n",
        "  def __init__(self, make, model, payload_capacity):\n",
        "    super().__init__(make, model)\n",
        "    self.payload_capacity = payload_capacity\n",
        "\n",
        "  def load_cargo(self):\n",
        "    print(\"Cargo loaded!\")\n",
        "\n",
        "car1 = Car(\"Toyota\", \"Corolla\", 4)\n",
        "truck1 = Truck(\"Ford\", \"F-340\", 4500)\n",
        "\n",
        "car1.start_engine()\n",
        "car1.honk()\n",
        "car1.stop_engine()\n",
        "\n",
        "truck1.start_engine()\n",
        "truck1.load_cargo()\n",
        "truck1.stop_engine()"
      ],
      "metadata": {
        "id": "2EFo0n0n77z_",
        "colab": {
          "base_uri": "https://localhost:8080/"
        },
        "outputId": "997a9734-484d-4228-8432-25edc5150e1b"
      },
      "execution_count": null,
      "outputs": [
        {
          "output_type": "stream",
          "name": "stdout",
          "text": [
            "Engine started!\n",
            "Car honks!\n",
            "Engine stopped!\n",
            "Engine started!\n",
            "Cargo loaded!\n",
            "Engine stopped!\n"
          ]
        }
      ]
    },
    {
      "cell_type": "markdown",
      "source": [
        "**Hybrid Inheritance**"
      ],
      "metadata": {
        "id": "nQmv5XGnpS7H"
      }
    },
    {
      "cell_type": "code",
      "source": [
        "#Parent class\n",
        "class Animal:\n",
        "  def __init__(self, name):\n",
        "    self.name = name\n",
        "\n",
        "  def speak(self):\n",
        "    print(f\"{self.name} makes a sound!\")\n",
        "\n",
        "#single level inheritance\n",
        "class Cat(Animal):\n",
        "  def speak(self):\n",
        "    print(f\"{self.name} says meow!\")\n",
        "\n",
        "#Multilevel inheritance\n",
        "class Kitten(Cat):\n",
        "  def speak(self):\n",
        "    print(f\"{self.name} says purr!\")\n",
        "\n",
        "\n",
        "#Second base class\n",
        "class Bird:\n",
        "  def __init__(self, name):\n",
        "    self.name = name\n",
        "\n",
        "  def fly(self):\n",
        "    print(f\"{self.name} can fly!\")\n",
        "\n",
        "#Multiple inheritance\n",
        "class FlyingCat(Cat, Bird):\n",
        "  def __init__(self, name):\n",
        "    Cat.__init__(self, name)\n",
        "    Bird.__init__(self, name)\n",
        "\n",
        "  def speak(self):\n",
        "    Cat.speak(self)\n",
        "    Bird.fly(self)\n",
        "\n",
        "#Hybrid inheritance\n",
        "class FlyingKitten(Kitten, Bird):\n",
        "  def __init__(self, name):\n",
        "    Kitten.__init__(self, name)\n",
        "    Bird.__init__(self, name)\n",
        "\n",
        "  def speak(self):\n",
        "    Kitten.speak(self)\n",
        "    Bird.fly(self)\n",
        "\n",
        "#create objects of the classes\n",
        "cat1 = Cat(\"Whiskers\")\n",
        "cat1.speak()\n",
        "print(\"\\n\")\n",
        "\n",
        "kitten1 = Kitten(\"Fluffy\")\n",
        "kitten1.speak()\n",
        "print(\"\\n\")\n",
        "\n",
        "bird1 = Bird(\"Tweety\")\n",
        "bird1.fly()\n",
        "print(\"\\n\")\n",
        "\n",
        "flying_cat1 = FlyingCat(\"Mittens\")\n",
        "flying_cat1.speak()\n",
        "print(\"\\n\")\n",
        "\n",
        "flying_kitten1 = FlyingKitten(\"Simba\")\n",
        "flying_kitten1.speak()"
      ],
      "metadata": {
        "id": "GbGnMZLBOB05",
        "colab": {
          "base_uri": "https://localhost:8080/"
        },
        "outputId": "05351a8b-09c5-42c4-ff80-4dfc8a46e8ba"
      },
      "execution_count": 2,
      "outputs": [
        {
          "output_type": "stream",
          "name": "stdout",
          "text": [
            "Whiskers says meow!\n",
            "\n",
            "\n",
            "Fluffy says purr!\n",
            "\n",
            "\n",
            "Tweety can fly!\n",
            "\n",
            "\n",
            "Mittens says meow!\n",
            "Mittens can fly!\n",
            "\n",
            "\n",
            "Simba says purr!\n",
            "Simba can fly!\n"
          ]
        }
      ]
    },
    {
      "cell_type": "code",
      "source": [],
      "metadata": {
        "id": "dnemwwndvYm2"
      },
      "execution_count": null,
      "outputs": []
    }
  ]
}