{
  "nbformat": 4,
  "nbformat_minor": 0,
  "metadata": {
    "colab": {
      "provenance": []
    },
    "kernelspec": {
      "name": "python3",
      "display_name": "Python 3"
    },
    "language_info": {
      "name": "python"
    }
  },
  "cells": [
    {
      "cell_type": "code",
      "execution_count": 1,
      "metadata": {
        "colab": {
          "base_uri": "https://localhost:8080/"
        },
        "id": "34efZ-Tr8F8M",
        "outputId": "e4934653-45a7-45f5-a44a-35b3441de993"
      },
      "outputs": [
        {
          "output_type": "stream",
          "name": "stdout",
          "text": [
            "Employee 1 details:\n",
            "\n",
            "Employee details: \n",
            "Employee name: Varnika\n",
            "Employee age: 20\n",
            "Employee gender: F\n",
            "Employee salary: 15000\n",
            "\n",
            "Employee 2 details: \n",
            "Enter employee name: Milind\n",
            "Enter employee age: 40\n",
            "Enter employee gender: M\n",
            "Enter employee salary: 75500\n",
            "\n",
            "Employee details: \n",
            "Employee name: Milind\n",
            "Employee age: 40\n",
            "Employee gender: M\n",
            "Employee salary: 75500\n"
          ]
        }
      ],
      "source": [
        "#Base class employee having attributes and emp_details method\n",
        "#The salary attribute is encapsulated using __\n",
        "class employee:\n",
        "  def __init__(self, name, age, gender, salary):\n",
        "    self.name = name\n",
        "    self.age = age\n",
        "    self.gender = gender\n",
        "    self.__salary = salary\n",
        "\n",
        "  def emp_details(self):\n",
        "    print(\"\\nEmployee details: \")\n",
        "    print(\"Employee name:\",self.name)\n",
        "    print(\"Employee age:\",self.age)\n",
        "    print(\"Employee gender:\",self.gender)\n",
        "    print(\"Employee salary:\",self.__salary)\n",
        "\n",
        "#Object initialization and creation\n",
        "print(\"Employee 1 details:\")\n",
        "emp1 = employee(\"Varnika\", 20, \"F\", 15000)\n",
        "emp1.emp_details()\n",
        "\n",
        "print(\"\\nEmployee 2 details: \")\n",
        "name = input(\"Enter employee name: \")\n",
        "age = int(input(\"Enter employee age: \"))\n",
        "gender = input(\"Enter employee gender: \")\n",
        "salary = input(\"Enter employee salary: \")\n",
        "emp2 = employee(name, age, gender, salary)\n",
        "emp2.emp_details()"
      ]
    },
    {
      "cell_type": "code",
      "source": [],
      "metadata": {
        "id": "-rSMgkBW8V4b"
      },
      "execution_count": null,
      "outputs": []
    }
  ]
}