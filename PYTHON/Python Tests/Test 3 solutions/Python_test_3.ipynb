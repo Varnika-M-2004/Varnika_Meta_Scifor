{
  "nbformat": 4,
  "nbformat_minor": 0,
  "metadata": {
    "colab": {
      "provenance": []
    },
    "kernelspec": {
      "name": "python3",
      "display_name": "Python 3"
    },
    "language_info": {
      "name": "python"
    }
  },
  "cells": [
    {
      "cell_type": "markdown",
      "source": [
        "# **Q1. Showcase all levels of inheritance**"
      ],
      "metadata": {
        "id": "4RM_qQA5GDUl"
      }
    },
    {
      "cell_type": "markdown",
      "source": [
        "**1. Single-level inheritance**"
      ],
      "metadata": {
        "id": "ZqHw31OAGIe6"
      }
    },
    {
      "cell_type": "code",
      "execution_count": 6,
      "metadata": {
        "colab": {
          "base_uri": "https://localhost:8080/"
        },
        "id": "fmC8cIUNF75e",
        "outputId": "7ee4e6c7-0acf-4a74-d7a2-adb3ad08b59a"
      },
      "outputs": [
        {
          "output_type": "stream",
          "name": "stdout",
          "text": [
            "Smartphone brand is: Samsung\n",
            "Smartphone model is: A21-S\n",
            "Smartphone price is: 25000\n"
          ]
        }
      ],
      "source": [
        "#Parent class phone\n",
        "class phone:\n",
        "  def __init__(self, brand):\n",
        "    self.brand = brand\n",
        "  def show_brand(self):\n",
        "    print(\"Smartphone brand is:\",self.brand)\n",
        "\n",
        "#Child class Samsung which inherits from parent class phone\n",
        "class Samsung(phone):\n",
        "  def __init__(self, brand, model, price):\n",
        "    super().__init__(brand)\n",
        "    self.model = model\n",
        "    self.price = price\n",
        "  def show_model(self):\n",
        "    print(\"Smartphone model is:\",self.model)\n",
        "  def show_price(self):\n",
        "    print(\"Smartphone price is:\",self.price)\n",
        "\n",
        "#object creation and initialization\n",
        "samsung_model_1 = Samsung(\"Samsung\", \"A21-S\", 25000)\n",
        "samsung_model_1.show_brand()\n",
        "samsung_model_1.show_model()\n",
        "samsung_model_1.show_price()"
      ]
    },
    {
      "cell_type": "markdown",
      "source": [
        "**2. Multi-level inheritance**"
      ],
      "metadata": {
        "id": "r8jJ5Fj-GN8U"
      }
    },
    {
      "cell_type": "code",
      "source": [
        "#Parent class meal\n",
        "class meal:\n",
        "  def __init__(self, meal_type):\n",
        "    self.meal_type = meal_type\n",
        "\n",
        "  def show_meal_type(self):\n",
        "    print(\"Meal type is:\",self.meal_type)\n",
        "\n",
        "#Child class breakfast which inherits from meal\n",
        "class breakfast(meal):\n",
        "  def __init__(self, meal_type, breakfast_time):\n",
        "    super().__init__(meal_type)\n",
        "    self.breakfast_time = breakfast_time\n",
        "\n",
        "  def show_breakfast_time(self):\n",
        "    print(\"My breakfast time is:\",self.breakfast_time)\n",
        "\n",
        "#Child class eggs which inherits from another inherited class breakfast\n",
        "class eggs(breakfast):\n",
        "  def __init__(self, meal_type, breakfast_time, eggs_count, eggs_type):\n",
        "    super().__init__(meal_type, breakfast_time)\n",
        "    self.eggs_count = eggs_count\n",
        "    self.eggs_type = eggs_type\n",
        "\n",
        "  def eggs_info(self):\n",
        "    print(\"I like to have\",self.eggs_count,\"eggs for breakfast.\")\n",
        "    print(\"My preferred eggs are:\", self.eggs_type)\n",
        "\n",
        "#object creation and initialization\n",
        "meal_1 = eggs(\"Breakfast\", \"9 am\", 2, \"scrambled eggs\")\n",
        "meal_1.show_meal_type()\n",
        "meal_1.show_breakfast_time()\n",
        "meal_1.eggs_info()"
      ],
      "metadata": {
        "colab": {
          "base_uri": "https://localhost:8080/"
        },
        "id": "rOrtKNiJGSIq",
        "outputId": "b60b3b71-8e5a-4c90-b5c0-329988e34744"
      },
      "execution_count": 7,
      "outputs": [
        {
          "output_type": "stream",
          "name": "stdout",
          "text": [
            "Meal type is: Breakfast\n",
            "My breakfast time is: 9 am\n",
            "I like to have 2 eggs for breakfast.\n",
            "My preferred eggs are: scrambled eggs\n"
          ]
        }
      ]
    },
    {
      "cell_type": "markdown",
      "source": [
        "**3. Multiple inheritance**"
      ],
      "metadata": {
        "id": "0YjBVpSlGSrS"
      }
    },
    {
      "cell_type": "code",
      "source": [
        "#First parent class\n",
        "class tiger:\n",
        "  def tiger_info(self):\n",
        "    print(\"I am the father tiger.\")\n",
        "\n",
        "#second parent class\n",
        "class tigress:\n",
        "  def tiger_info(self):\n",
        "    print(\"I am the mother tiger.\")\n",
        "\n",
        "#child class cub which inherits from both parent classes\n",
        "class cub(tiger, tigress):\n",
        "  def tiger_info(self):\n",
        "    super().tiger_info()\n",
        "    print(\"I am a cub. My parents are the tiger and tigress.\")\n",
        "\n",
        "#object creation and initialization\n",
        "cub_1 = cub()\n",
        "cub_1.tiger_info()"
      ],
      "metadata": {
        "colab": {
          "base_uri": "https://localhost:8080/"
        },
        "id": "-ve2N9XzGVC9",
        "outputId": "907cfb39-5725-411e-eec4-dbbf5440a0c3"
      },
      "execution_count": 11,
      "outputs": [
        {
          "output_type": "stream",
          "name": "stdout",
          "text": [
            "I am the father tiger.\n",
            "I am a cub. My parents are the tiger and tigress.\n"
          ]
        }
      ]
    },
    {
      "cell_type": "markdown",
      "source": [
        "**4. Hybrid inheritance**"
      ],
      "metadata": {
        "id": "QmWhnJ26GVnZ"
      }
    },
    {
      "cell_type": "code",
      "source": [
        "#Parent class\n",
        "class appliance_type:\n",
        "  def __init__(self, category):\n",
        "    self.category = category\n",
        "\n",
        "  def display_category(self):\n",
        "    print(\"The category of the appliance is:\",self.category)\n",
        "\n",
        "#child class electronics inheriting from applinace_type showcasing single-level inheritance\n",
        "class electronics(appliance_type):\n",
        "  def __init__(self, brand, category):\n",
        "    super().__init__(category)\n",
        "    self.brand = brand\n",
        "\n",
        "  def display_info(self):\n",
        "    print(\"The brand for the electronics items is:\",self.brand)\n",
        "\n",
        "#second parent class warranty\n",
        "class warranty:\n",
        "  def __init__(self, warranty_duration):\n",
        "    self.warranty_duration = warranty_duration\n",
        "\n",
        "  def display_warranty(self):\n",
        "    print(\"The warranty duration for the appliance is:\",self.warranty_duration)\n",
        "\n",
        "'''TV class inheriting from electronics and warranty which showcases multiple inheritance and multi-level.\n",
        "Hence, classes TV and headphones showcase hybrid inheritance\n",
        "'''\n",
        "class TV(electronics, warranty):\n",
        "  def __init__(self, brand, category, dimension, price, warranty_duration):\n",
        "    electronics.__init__(self, brand, category)\n",
        "    warranty.__init__(self, warranty_duration)\n",
        "    self.dimension = dimension\n",
        "    self.price = price\n",
        "\n",
        "  def display_info(self):\n",
        "    electronics.display_info(self)\n",
        "    warranty.display_warranty(self)\n",
        "    print(\"The dimensions of the TV is:\",self.dimension)\n",
        "    print(\"The price of the TV is:\",self.price)\n",
        "\n",
        "class headphones(electronics, warranty):\n",
        "  def __init__(self, brand, category, model, price, warranty_duration):\n",
        "    electronics.__init__(self, brand, category)\n",
        "    warranty.__init__(self, warranty_duration)\n",
        "    self.model = model\n",
        "    self.price = price\n",
        "\n",
        "  def display_info(self):\n",
        "    electronics.display_info(self)\n",
        "    warranty.display_warranty(self)\n",
        "    print(\"The model of the headphones is:\",self.model)\n",
        "    print(\"The price of the headphones is:\",self.price)\n",
        "\n",
        "#object creation and initialization\n",
        "tv_1 = TV(\"LG\", \"Home appliances\", \"52 inches\", 150000, \"5 years\")\n",
        "tv_1.display_category()\n",
        "tv_1.display_info()\n",
        "print(\"\\n\")\n",
        "headphones_1 = headphones(\"Sony\", \"Audio device\", \"WH-1000XM4\", 20000, \"1 year\")\n",
        "headphones_1.display_category()\n",
        "headphones_1.display_info()"
      ],
      "metadata": {
        "colab": {
          "base_uri": "https://localhost:8080/"
        },
        "id": "a465ZqynGXa2",
        "outputId": "f8f96be1-ad22-4cba-a961-8576578cb154"
      },
      "execution_count": 20,
      "outputs": [
        {
          "output_type": "stream",
          "name": "stdout",
          "text": [
            "The category of the appliance is: Home appliances\n",
            "The brand for the electronics items is: LG\n",
            "The warranty duration for the appliance is: 5 years\n",
            "The dimensions of the TV is: 52 inches\n",
            "The price of the TV is: 150000\n",
            "\n",
            "\n",
            "The category of the appliance is: Audio device\n",
            "The brand for the electronics items is: Sony\n",
            "The warranty duration for the appliance is: 1 year\n",
            "The model of the headphones is: WH-1000XM4\n",
            "The price of the headphones is: 20000\n"
          ]
        }
      ]
    },
    {
      "cell_type": "markdown",
      "source": [
        "**5. Hierarchical inheritance**"
      ],
      "metadata": {
        "id": "hIV1tc64GX3W"
      }
    },
    {
      "cell_type": "code",
      "source": [
        "#Parent class\n",
        "class electronics:\n",
        "  def __init__(self, brand):\n",
        "    self.brand = brand\n",
        "\n",
        "  def display_info(self):\n",
        "    print(\"The brand for the electronics items is:\",self.brand)\n",
        "\n",
        "#First child class TV which inherits from parent class electronics\n",
        "class TV(electronics):\n",
        "  def __init__(self, brand, dimension, price):\n",
        "    super().__init__(brand)\n",
        "    self.dimension = dimension\n",
        "    self.price = price\n",
        "\n",
        "  def display_info(self):\n",
        "    super().display_info()\n",
        "    print(\"The dimensions of the TV is:\",self.dimension)\n",
        "    print(\"The price of the TV is:\",self.price)\n",
        "\n",
        "#Second child class headphones which also inherits from parent class electronics\n",
        "class headphones(electronics):\n",
        "  def __init__(self, brand, model, price):\n",
        "    super().__init__(brand)\n",
        "    self.model = model\n",
        "    self.price = price\n",
        "\n",
        "  def display_info(self):\n",
        "    super().display_info()\n",
        "    print(\"The model of the headphones is:\",self.model)\n",
        "    print(\"The price of the headphones is:\",self.price)\n",
        "\n",
        "#object creation and initialization\n",
        "tv_1 = TV(\"LG\", \"52 inches\", 150000)\n",
        "tv_1.display_info()\n",
        "print(\"\\n\")\n",
        "headphones_1 = headphones(\"Sony\", \"WH-1000XM4\", 20000)\n",
        "headphones_1.display_info()"
      ],
      "metadata": {
        "colab": {
          "base_uri": "https://localhost:8080/"
        },
        "id": "JGKYq-h8GarN",
        "outputId": "1a3356bc-ca58-475c-fda3-16859a2bfdae"
      },
      "execution_count": 14,
      "outputs": [
        {
          "output_type": "stream",
          "name": "stdout",
          "text": [
            "The brand for the electronics items is: LG\n",
            "The dimensions of the TV is: 52 inches\n",
            "The price of the TV is: 150000\n",
            "\n",
            "\n",
            "The brand for the electronics items is: Sony\n",
            "The model of the headphones is: WH-1000XM4\n",
            "The price of the headphones is: 20000\n"
          ]
        }
      ]
    },
    {
      "cell_type": "markdown",
      "source": [
        "# **Q2. Showcase method overriding**"
      ],
      "metadata": {
        "id": "017K_atxGkum"
      }
    },
    {
      "cell_type": "code",
      "source": [
        "#Parent class\n",
        "class marks:\n",
        "  def display_marks(self):\n",
        "    print(\"This class contains the marks of all subjects!\")\n",
        "\n",
        "#Child class\n",
        "class Math(marks):\n",
        "  def display_marks(self):\n",
        "    print(\"This class conatins marks of Mathematics subject!\")\n",
        "\n",
        "#Child class\n",
        "class Science(marks):\n",
        "  def display_marks(self):\n",
        "    print(\"This class conatins marks of Science subject!\")\n",
        "\n",
        "#object creation and initialization\n",
        "marks_1 = marks()\n",
        "marks_1.display_marks()\n",
        "math_1 = Math()\n",
        "math_1.display_marks()\n",
        "science_1 = Science()\n",
        "science_1.display_marks()"
      ],
      "metadata": {
        "colab": {
          "base_uri": "https://localhost:8080/"
        },
        "id": "evq169ReGnnT",
        "outputId": "6665e63a-249a-488d-ae9c-ed749685bb63"
      },
      "execution_count": 26,
      "outputs": [
        {
          "output_type": "stream",
          "name": "stdout",
          "text": [
            "This class contains the marks of all subjects!\n",
            "This class conatins marks of Mathematics subject!\n",
            "This class conatins marks of Science subject!\n"
          ]
        }
      ]
    },
    {
      "cell_type": "markdown",
      "source": [
        "# **Q3. Showcase method overloading**"
      ],
      "metadata": {
        "id": "WCAQ-kxaGqYU"
      }
    },
    {
      "cell_type": "code",
      "source": [
        "#Class marks containing attributes and method display_info\n",
        "class Marks:\n",
        "    def display_info(self, subject=None, marks=None, cgpa=None):\n",
        "        if subject and marks and cgpa:\n",
        "            print(\"The marks of\",subject,\"is\",marks,\"and the CGPA is\",cgpa)\n",
        "        elif subject and marks:\n",
        "            print(\"The marks of\",subject,\"is\",marks)\n",
        "        elif subject:\n",
        "            print(\"Subject is\",subject)\n",
        "        else:\n",
        "            print(\"No information available\")\n",
        "\n",
        "# Object creation and initialization to demonstrate method overloading\n",
        "subject_1 = Marks()\n",
        "subject_1.display_info(\"Maths\", 90, 9.4)\n",
        "subject_1.display_info(\"Science\", 85)\n",
        "subject_1.display_info(\"English\")\n",
        "subject_1.display_info()\n"
      ],
      "metadata": {
        "colab": {
          "base_uri": "https://localhost:8080/"
        },
        "id": "qtkd9JGaSOkZ",
        "outputId": "92b45d4e-e09a-4c04-c063-731e618c7129"
      },
      "execution_count": 32,
      "outputs": [
        {
          "output_type": "stream",
          "name": "stdout",
          "text": [
            "The marks of Maths is 90 and the CGPA is 9.4\n",
            "The marks of Science is 85\n",
            "Subject is English\n",
            "No information available\n"
          ]
        }
      ]
    }
  ]
}