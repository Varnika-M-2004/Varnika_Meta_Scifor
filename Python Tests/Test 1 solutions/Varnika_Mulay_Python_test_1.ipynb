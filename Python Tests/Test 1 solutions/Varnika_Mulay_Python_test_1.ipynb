{
  "nbformat": 4,
  "nbformat_minor": 0,
  "metadata": {
    "colab": {
      "provenance": []
    },
    "kernelspec": {
      "name": "python3",
      "display_name": "Python 3"
    },
    "language_info": {
      "name": "python"
    }
  },
  "cells": [
    {
      "cell_type": "markdown",
      "source": [
        "**1. Explain Encapsulation with example and write python code.**"
      ],
      "metadata": {
        "id": "KyAEJPVM5HF8"
      }
    },
    {
      "cell_type": "code",
      "execution_count": 14,
      "metadata": {
        "colab": {
          "base_uri": "https://localhost:8080/"
        },
        "id": "Rye14i5s4fWH",
        "outputId": "86cd5e5a-a77d-43ea-d5b0-ff91dc32e00c"
      },
      "outputs": [
        {
          "output_type": "stream",
          "name": "stdout",
          "text": [
            "EMPLOYEE DETAILS:\n",
            "\n",
            "Employee ID:  100\n",
            "Employee Name:  Varnika\n",
            "Employee Position:  Data Science Intern\n",
            "Employee Salary:  15000\n",
            "Employee Company:  TCS\n"
          ]
        }
      ],
      "source": [
        "#class Employee having private attribute as salary\n",
        "class Employee:\n",
        "  def emp_details(self, id, name, position, salary, company):\n",
        "    self.id = id\n",
        "    self.name = name\n",
        "    self.position = position\n",
        "    self.__salary = salary\n",
        "    self.company = company\n",
        "\n",
        "  def display_info(self):\n",
        "    print(\"EMPLOYEE DETAILS:\\n\")\n",
        "    print(\"Employee ID: \",self.id)\n",
        "    print(\"Employee Name: \",self.name)\n",
        "    print(\"Employee Position: \",self.position)\n",
        "    print(\"Employee Salary: \",self.__salary)\n",
        "    print(\"Employee Company: \",self.company)\n",
        "\n",
        "#object initialization and creation\n",
        "emp_1 = Employee()\n",
        "emp_1.emp_details(100, 'Varnika', 'Data Science Intern', 15000, 'TCS')\n",
        "emp_1.display_info()"
      ]
    },
    {
      "cell_type": "markdown",
      "source": [
        "**2. Explain Polymorphism with example and write python code.**"
      ],
      "metadata": {
        "id": "HAIkOk9t6QIt"
      }
    },
    {
      "cell_type": "code",
      "source": [
        "#Parent class Fruit\n",
        "class Fruit:\n",
        "  def fruit_info(self):\n",
        "    print(\"Fruit details!\")\n",
        "\n",
        "#child class Apple who inherits from parent class Fruit\n",
        "class Apple(Fruit):\n",
        "  def fruit_info(self):\n",
        "    print(\"I am apple!\")\n",
        "\n",
        "#child class Banana who inherits from parent class Fruit\n",
        "class Banana(Fruit):\n",
        "  def fruit_info(self):\n",
        "    print(\"I am Banana!\")\n",
        "\n",
        "#object initialization and creation\n",
        "fruit1 = Apple()\n",
        "fruit2 = Banana()\n",
        "fruit1.fruit_info()\n",
        "fruit2.fruit_info()"
      ],
      "metadata": {
        "colab": {
          "base_uri": "https://localhost:8080/"
        },
        "id": "XsxUqSr46EWJ",
        "outputId": "4c6286ee-ee25-4540-caf4-c76dce4b5a1a"
      },
      "execution_count": 15,
      "outputs": [
        {
          "output_type": "stream",
          "name": "stdout",
          "text": [
            "I am apple!\n",
            "I am Banana!\n"
          ]
        }
      ]
    },
    {
      "cell_type": "markdown",
      "source": [
        "**3. Explain Single Level Inheritance with python code.**"
      ],
      "metadata": {
        "id": "X-XgFkGc7-rG"
      }
    },
    {
      "cell_type": "code",
      "source": [
        "#Parent class shape having name attribute\n",
        "class shape:\n",
        "  def __init__(self, name):\n",
        "    self.name = name\n",
        "\n",
        "  def shape_info(self):\n",
        "    print(\"SHAPE FEATURES: \\n\")\n",
        "    print(\"Shape name: \",self.name)\n",
        "\n",
        "#child class shape_type who inherits from the parent class shape the attribute \"name\". It has its own attributes like color, no_of_sides also\n",
        "class shape_type(shape):\n",
        "  def __init__(self, name, color, no_of_sides):\n",
        "    #super() is used to access 'name' attribute of parent class\n",
        "    super().__init__(name)\n",
        "    self.color = color\n",
        "    self.no_of_sides = no_of_sides\n",
        "\n",
        "  def shape_info(self):\n",
        "    super().shape_info()\n",
        "    print(\"Shape color: \",self.color)\n",
        "    print(\"No. of sides: \",self.no_of_sides)\n",
        "\n",
        "#object initialization and creation\n",
        "shape1 = shape_type(\"Triangle\", \"Blue\", \"3\")\n",
        "shape1.shape_info()\n",
        "#the output will include all 3 attributes as the child class inherits name from parent and prints it\n"
      ],
      "metadata": {
        "colab": {
          "base_uri": "https://localhost:8080/"
        },
        "id": "1x5sImTa74HR",
        "outputId": "8747c1a5-ac50-4786-b42b-8f356a7b908d"
      },
      "execution_count": 17,
      "outputs": [
        {
          "output_type": "stream",
          "name": "stdout",
          "text": [
            "SHAPE FEATURES: \n",
            "\n",
            "Shape name:  Triangle\n",
            "Shape color:  Blue\n",
            "No. of sides:  3\n"
          ]
        }
      ]
    },
    {
      "cell_type": "markdown",
      "source": [
        "**4. Explain Multiple inheritance with python code.**"
      ],
      "metadata": {
        "id": "MQDFquM_-IGK"
      }
    },
    {
      "cell_type": "code",
      "source": [
        "#Parent class lion\n",
        "class lion:\n",
        "  def family_info(self):\n",
        "    print(\"I am the father lion!\")\n",
        "\n",
        "#Second parent class lioness\n",
        "class lioness:\n",
        "  def family_info(self):\n",
        "    print(\"I am the lioness mother!\")\n",
        "\n",
        "#child class cub who inherits from both parent classes, lion and lioness\n",
        "class cub(lion, lioness):\n",
        "  def family_info(self):\n",
        "    #super() is used to access the family_info() method of the first parent class\n",
        "    super().family_info()\n",
        "    print(\"I am the baby cub!\")\n",
        "\n",
        "#object initialization and creation\n",
        "cub_1 = cub()\n",
        "cub_1.family_info()\n",
        "\n",
        "#As the super() method can access the first parent class only, we can explicitly call the mother class - lioness\n",
        "mother = lioness()\n",
        "mother.family_info()"
      ],
      "metadata": {
        "colab": {
          "base_uri": "https://localhost:8080/"
        },
        "id": "9JW0GumE-Hhj",
        "outputId": "35233226-c7d2-423a-dcbb-35b4a8ca104d"
      },
      "execution_count": 18,
      "outputs": [
        {
          "output_type": "stream",
          "name": "stdout",
          "text": [
            "I am the father lion!\n",
            "I am the baby cub!\n",
            "I am the lioness mother!\n"
          ]
        }
      ]
    },
    {
      "cell_type": "markdown",
      "source": [
        "**5. Explain Muti-level inheritance with python code**"
      ],
      "metadata": {
        "id": "yvfxDMD19U5C"
      }
    },
    {
      "cell_type": "code",
      "source": [
        "#Grandparent class grandparent\n",
        "class grandparent:\n",
        "  def grandparent_info(self):\n",
        "    print(\"I am the grandparent class!\")\n",
        "\n",
        "#Parent class parent who inherits from grandparent class\n",
        "class parent(grandparent):\n",
        "  def parent_info(self):\n",
        "    print(\"I am the parent class!\")\n",
        "\n",
        "#Child class child who inherits from parent class\n",
        "class child(parent):\n",
        "  def child_info(self):\n",
        "    print(\"I am the child class!\")\n",
        "\n",
        "#object initialization and creation\n",
        "child_1 = child()\n",
        "child_1.grandparent_info()\n",
        "child_1.parent_info()\n",
        "child_1.child_info()"
      ],
      "metadata": {
        "colab": {
          "base_uri": "https://localhost:8080/"
        },
        "id": "VKNkvsHA9Riq",
        "outputId": "f1ada079-9827-4aed-cb99-563a254912a8"
      },
      "execution_count": 19,
      "outputs": [
        {
          "output_type": "stream",
          "name": "stdout",
          "text": [
            "I am the grandparent class!\n",
            "I am the parent class!\n",
            "I am the child class!\n"
          ]
        }
      ]
    },
    {
      "cell_type": "code",
      "source": [],
      "metadata": {
        "id": "RKpJdCgA93oC"
      },
      "execution_count": null,
      "outputs": []
    }
  ]
}