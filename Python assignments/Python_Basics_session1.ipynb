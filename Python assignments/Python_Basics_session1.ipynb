{
  "nbformat": 4,
  "nbformat_minor": 0,
  "metadata": {
    "colab": {
      "provenance": []
    },
    "kernelspec": {
      "name": "python3",
      "display_name": "Python 3"
    },
    "language_info": {
      "name": "python"
    }
  },
  "cells": [
    {
      "cell_type": "code",
      "execution_count": null,
      "metadata": {
        "colab": {
          "base_uri": "https://localhost:8080/"
        },
        "id": "QSRv8hr107Op",
        "outputId": "520d90e5-cb3c-45d8-bc95-6249cc721687"
      },
      "outputs": [
        {
          "output_type": "stream",
          "name": "stdout",
          "text": [
            "<class 'str'>\n"
          ]
        }
      ],
      "source": [
        "print(type('a'))"
      ]
    },
    {
      "cell_type": "code",
      "source": [
        "operations = \"1.Addition\\n2.Subtraction\\n3.Multiplication\\n4.Division\"\n",
        "print(operations)\n",
        "num1 = int(input(\"Enter first number: \"))\n",
        "num2 = int(input(\"Enter second number: \"))\n",
        "choice = int(input(\"Enter your choice: \"))\n",
        "if(choice==1):\n",
        "  num3 = num1+num2\n",
        "  print(\"Addition of \",num1,\" and \",num2,\" is \",num3)\n",
        "if(choice==2):\n",
        "  num3 = num1-num2\n",
        "  print(\"Subtraction of \",num1,\" and \",num2,\" is \",num3)\n",
        "if(choice==3):\n",
        "  num3 = num1*num2\n",
        "  print(\"Multiplication of \",num1,\" and \",num2,\" is \",num3)\n",
        "if(choice==4):\n",
        "  num3 = num1/num2\n",
        "  print(\"Division of \",num1,\" and \",num2,\" is \",num3)\n",
        "else:\n",
        "  print(\"Enter valid choice\")"
      ],
      "metadata": {
        "colab": {
          "base_uri": "https://localhost:8080/"
        },
        "id": "5OU5lHDHnF0y",
        "outputId": "b4c0619d-f36d-409f-e487-fc2b42982426"
      },
      "execution_count": null,
      "outputs": [
        {
          "output_type": "stream",
          "name": "stdout",
          "text": [
            "1.Addition\n",
            "2.Subtraction\n",
            "3.Multiplication\n",
            "4.Division\n",
            "Enter first number: 1\n",
            "Enter second number: 2\n",
            "Enter your choice: 4\n",
            "Division of  1  and  2  is  0.5\n"
          ]
        }
      ]
    },
    {
      "cell_type": "code",
      "source": [
        "num1 = 40\n",
        "num2 = 30\n",
        "if(num1>num2):\n",
        "  print(num1, \"is greater\")\n",
        "elif(num1==num2):\n",
        "  print(\"Both are equal\")\n",
        "else:\n",
        "  print(num2, \"is greater\")"
      ],
      "metadata": {
        "colab": {
          "base_uri": "https://localhost:8080/"
        },
        "id": "bFIJ9Vtl4qAU",
        "outputId": "28f061c3-f767-46f7-e50b-7342f9e085f7"
      },
      "execution_count": null,
      "outputs": [
        {
          "output_type": "stream",
          "name": "stdout",
          "text": [
            "40 is greater\n"
          ]
        }
      ]
    },
    {
      "cell_type": "code",
      "source": [
        "num1 = 100\n",
        "num2 = 90\n",
        "num3 = 87\n",
        "if(num1>num2):\n",
        "  if(num1>num3):\n",
        "    print(num1, \"is greatest\")\n",
        "else:\n",
        "  print(\"STOP\")"
      ],
      "metadata": {
        "colab": {
          "base_uri": "https://localhost:8080/"
        },
        "id": "eytuX3b56r0H",
        "outputId": "4b7e88d8-ee17-4216-82b8-865a0bb3c660"
      },
      "execution_count": null,
      "outputs": [
        {
          "output_type": "stream",
          "name": "stdout",
          "text": [
            "100 is greatest\n"
          ]
        }
      ]
    },
    {
      "cell_type": "code",
      "source": [
        "value = int(input(\"Enter a value: \"))\n",
        "match value:\n",
        "  case 1:\n",
        "    print(\"One\")\n",
        "  case 2:\n",
        "    print(\"Two\")"
      ],
      "metadata": {
        "colab": {
          "base_uri": "https://localhost:8080/"
        },
        "id": "bE9bARQW8wXy",
        "outputId": "219a9081-4e66-44ae-a30b-b6e8cd5c6d54"
      },
      "execution_count": null,
      "outputs": [
        {
          "output_type": "stream",
          "name": "stdout",
          "text": [
            "Enter a value: 1\n",
            "One\n"
          ]
        }
      ]
    },
    {
      "cell_type": "code",
      "source": [
        "def color(value):\n",
        "  match value:\n",
        "    case \"yellow\":\n",
        "      print(\"mango\")\n",
        "    case \"red\":\n",
        "      print(\"apple\")\n",
        "    case \"blue\":\n",
        "      print(\"blueberry\")\n",
        "    case \"green\":\n",
        "      print(\"grapes\")\n",
        "    case default:\n",
        "      print(\"Fruit\")\n",
        "\n",
        "choice = input(\"Enter color choice: \")\n",
        "color(choice)"
      ],
      "metadata": {
        "colab": {
          "base_uri": "https://localhost:8080/"
        },
        "id": "RYNKtKPR96kc",
        "outputId": "9f7455c3-8334-4998-d6cd-aa6edaab1ff6"
      },
      "execution_count": null,
      "outputs": [
        {
          "output_type": "stream",
          "name": "stdout",
          "text": [
            "Enter color choice: yellow\n",
            "mango\n"
          ]
        }
      ]
    },
    {
      "cell_type": "code",
      "source": [
        "def addition(num1, num2):\n",
        "  num3 = num1+num2\n",
        "  print(\"Addition is: \",num3)\n",
        "\n",
        "addition(2,3)"
      ],
      "metadata": {
        "colab": {
          "base_uri": "https://localhost:8080/"
        },
        "id": "gHkNBkN2-Ys5",
        "outputId": "37e55add-9f81-4752-976f-4b37dec4158a"
      },
      "execution_count": null,
      "outputs": [
        {
          "output_type": "stream",
          "name": "stdout",
          "text": [
            "Addition is:  5\n"
          ]
        }
      ]
    },
    {
      "cell_type": "code",
      "source": [
        "def addition(num1, num2):\n",
        "  num3 = num1+num2\n",
        "  print(\"Addition is: \",num3)\n",
        "\n",
        "num1 = int(input(\"Enter number: \"))\n",
        "num2 = int(input(\"Enter a number: \"))\n",
        "\n",
        "addition(num1, num2)"
      ],
      "metadata": {
        "colab": {
          "base_uri": "https://localhost:8080/"
        },
        "id": "pZs6_vq_-xkY",
        "outputId": "9115748c-7056-4ead-94f6-8a4bd7c401cc"
      },
      "execution_count": null,
      "outputs": [
        {
          "output_type": "stream",
          "name": "stdout",
          "text": [
            "Enter number: 1\n",
            "Enter a number: 4\n",
            "Addition is:  5\n"
          ]
        }
      ]
    },
    {
      "cell_type": "code",
      "source": [
        "def employee(id, name, age, position):\n",
        "  print(\"EMPLOYEE DETAILS\")\n",
        "  print(\"Employee ID is: \",id)\n",
        "  print(\"Employee name is: \",name)\n",
        "  print(\"Employee age is: \",age)\n",
        "  print(\"Employee position is: \",position)\n",
        "\n",
        "emp_id = int(input(\"Enter id: \"))\n",
        "emp_name = input(\"Enter name: \")\n",
        "emp_age = int(input(\"Enter age: \"))\n",
        "emp_position = input(\"Enter position: \")\n",
        "\n",
        "employee(emp_id, emp_name, emp_age, emp_position)"
      ],
      "metadata": {
        "id": "VNfUsrJl-9NO",
        "colab": {
          "base_uri": "https://localhost:8080/"
        },
        "outputId": "77cfd81f-5e63-4d42-f146-43647bc9446a"
      },
      "execution_count": null,
      "outputs": [
        {
          "output_type": "stream",
          "name": "stdout",
          "text": [
            "Enter id: 101\n",
            "Enter name: Varnika\n",
            "Enter age: 20\n",
            "Enter position: Intern\n",
            "EMPLOYEE DETAILS\n",
            "Employee ID is:  101\n",
            "Employee name is:  Varnika\n",
            "Employee age is:  20\n",
            "Employee position is:  Intern\n"
          ]
        }
      ]
    },
    {
      "cell_type": "code",
      "source": [],
      "metadata": {
        "id": "F-glC_sapTsC"
      },
      "execution_count": null,
      "outputs": []
    }
  ]
}